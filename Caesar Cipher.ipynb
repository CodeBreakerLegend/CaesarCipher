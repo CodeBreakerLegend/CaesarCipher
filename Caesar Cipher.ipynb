{
 "cells": [
  {
   "cell_type": "code",
   "execution_count": 1,
   "metadata": {},
   "outputs": [],
   "source": [
    "#Caesar Cipher (Without GUI)\n"
   ]
  },
  {
   "cell_type": "code",
   "execution_count": 2,
   "metadata": {},
   "outputs": [],
   "source": [
    "import string\n",
    "alphalist = string.ascii_lowercase "
   ]
  },
  {
   "cell_type": "code",
   "execution_count": 26,
   "metadata": {},
   "outputs": [
    {
     "data": {
      "text/plain": [
       "'abcdefghijklmnopqrstuvwxyz'"
      ]
     },
     "execution_count": 26,
     "metadata": {},
     "output_type": "execute_result"
    }
   ],
   "source": [
    "#decoding reference\n",
    "alphalist"
   ]
  },
  {
   "cell_type": "code",
   "execution_count": 56,
   "metadata": {},
   "outputs": [],
   "source": [
    "#testing part"
   ]
  },
  {
   "cell_type": "code",
   "execution_count": 209,
   "metadata": {},
   "outputs": [
    {
     "name": "stdout",
     "output_type": "stream",
     "text": [
      "Type your message: what you say\n"
     ]
    }
   ],
   "source": [
    "msg = input(\"Type your message: \").split(\" \")"
   ]
  },
  {
   "cell_type": "code",
   "execution_count": 210,
   "metadata": {},
   "outputs": [
    {
     "data": {
      "text/plain": [
       "['what', 'you', 'say']"
      ]
     },
     "execution_count": 210,
     "metadata": {},
     "output_type": "execute_result"
    }
   ],
   "source": [
    "msg"
   ]
  },
  {
   "cell_type": "code",
   "execution_count": 211,
   "metadata": {},
   "outputs": [
    {
     "data": {
      "text/plain": [
       "'what you say'"
      ]
     },
     "execution_count": 211,
     "metadata": {},
     "output_type": "execute_result"
    }
   ],
   "source": [
    "msgg = \" \".join(msg) # just checking if i remember syntax of join ? ;)\n",
    "msgg"
   ]
  },
  {
   "cell_type": "code",
   "execution_count": 212,
   "metadata": {},
   "outputs": [
    {
     "name": "stdout",
     "output_type": "stream",
     "text": [
      "22 7 0 19 24 14 20 18 0 24 "
     ]
    }
   ],
   "source": [
    "#checking how to display index of a letter in reference\n",
    "for i in msg:\n",
    "    for j in i:\n",
    "        print(alphalist.find(j),end = \" \")"
   ]
  },
  {
   "cell_type": "code",
   "execution_count": 213,
   "metadata": {},
   "outputs": [
    {
     "name": "stdout",
     "output_type": "stream",
     "text": [
      "xibu zpv tbz "
     ]
    },
    {
     "data": {
      "text/plain": [
       "'xibu zpv tbz'"
      ]
     },
     "execution_count": 213,
     "metadata": {},
     "output_type": "execute_result"
    }
   ],
   "source": [
    "#encoding message -> encoding function to be created\n",
    "\n",
    "enc_words = []\n",
    "for i in msg:\n",
    "    encw = \"\"\n",
    "    for j in i:\n",
    "        #print(alphalist.find(j)+3,end = \" \")\n",
    "        enc = alphalist.find(j) + 1\n",
    "        print(alphalist[enc],end=\"\")\n",
    "        encw = encw + alphalist[enc]\n",
    "    print(\" \",end=\"\")\n",
    "    enc_words.append(encw)\n",
    "enc_msg = \" \".join(enc_words)\n",
    "enc_msg"
   ]
  },
  {
   "cell_type": "code",
   "execution_count": 214,
   "metadata": {},
   "outputs": [
    {
     "name": "stdout",
     "output_type": "stream",
     "text": [
      "what you say "
     ]
    },
    {
     "data": {
      "text/plain": [
       "'what you say'"
      ]
     },
     "execution_count": 214,
     "metadata": {},
     "output_type": "execute_result"
    }
   ],
   "source": [
    "#decoding message -> decoding function to be created\n",
    "\n",
    "enc_msg_list = enc_msg.split(\" \")\n",
    "dec_words = []\n",
    "for i in enc_msg_list:\n",
    "    decw = \"\"\n",
    "    for j in i:\n",
    "        #print(alphalist.find(j)+3,end = \" \")\n",
    "        dec = alphalist.find(j) - 1\n",
    "        print(alphalist[dec],end=\"\")\n",
    "        decw = decw + alphalist[dec]\n",
    "    print(\" \",end=\"\")\n",
    "    dec_words.append(decw)\n",
    "dec_msg = \" \".join(dec_words)\n",
    "dec_msg"
   ]
  },
  {
   "cell_type": "code",
   "execution_count": 215,
   "metadata": {},
   "outputs": [
    {
     "name": "stdout",
     "output_type": "stream",
     "text": [
      "qbun sio mus "
     ]
    },
    {
     "data": {
      "text/plain": [
       "'qbun sio mus'"
      ]
     },
     "execution_count": 215,
     "metadata": {},
     "output_type": "execute_result"
    }
   ],
   "source": [
    "#encoding message going beyong range of alphalist -> encoding function to be created\n",
    "\n",
    "enc_words = []\n",
    "for i in msg:\n",
    "    encw = \"\"\n",
    "    for j in i:\n",
    "        #print(alphalist.find(j)+3,end = \" \")\n",
    "        enc = alphalist.find(j) + 20\n",
    "        if enc >= 26:\n",
    "            enc = enc-26\n",
    "        print(alphalist[enc],end=\"\")\n",
    "        encw = encw + alphalist[enc]\n",
    "    print(\" \",end=\"\")\n",
    "    enc_words.append(encw)\n",
    "enc_msg = \" \".join(enc_words)\n",
    "enc_msg"
   ]
  },
  {
   "cell_type": "code",
   "execution_count": 216,
   "metadata": {},
   "outputs": [
    {
     "name": "stdout",
     "output_type": "stream",
     "text": [
      "what you say "
     ]
    },
    {
     "data": {
      "text/plain": [
       "'what you say'"
      ]
     },
     "execution_count": 216,
     "metadata": {},
     "output_type": "execute_result"
    }
   ],
   "source": [
    "#decoding message going beyong range of alphalist -> decoding function to be created\n",
    "\n",
    "enc_msg_list = enc_msg.split(\" \")\n",
    "dec_words = []\n",
    "for i in enc_msg_list:\n",
    "    decw = \"\"\n",
    "    for j in i:\n",
    "        #print(alphalist.find(j)+3,end = \" \")\n",
    "        dec = alphalist.find(j) - 20\n",
    "        print(alphalist[dec],end=\"\")\n",
    "        decw = decw + alphalist[dec]\n",
    "    print(\" \",end=\"\")\n",
    "    dec_words.append(decw)\n",
    "dec_msg = \" \".join(dec_words)\n",
    "dec_msg"
   ]
  },
  {
   "cell_type": "code",
   "execution_count": 229,
   "metadata": {},
   "outputs": [],
   "source": [
    "def encode(originalmsg,key):\n",
    "    msg_words = originalmsg.split(\" \")\n",
    "    enc_words = []\n",
    "    for i in msg_words:\n",
    "        encw = \"\"\n",
    "        for j in i:\n",
    "            #print(alphalist.find(j)+3,end = \" \")\n",
    "            enc = alphalist.find(j) + key\n",
    "            if enc >= 26:\n",
    "                enc = enc-26\n",
    "            print(alphalist[enc],end=\"\")\n",
    "            encw = encw + alphalist[enc]\n",
    "        print(\" \",end=\"\")\n",
    "        enc_words.append(encw)\n",
    "    enc_msg = \" \".join(enc_words)\n",
    "\n",
    "    \n"
   ]
  },
  {
   "cell_type": "code",
   "execution_count": 233,
   "metadata": {},
   "outputs": [
    {
     "name": "stdout",
     "output_type": "stream",
     "text": [
      "ukcrs kkroc de "
     ]
    }
   ],
   "source": [
    "encode(\"kashi aahes tu\",10)"
   ]
  },
  {
   "cell_type": "code",
   "execution_count": 234,
   "metadata": {},
   "outputs": [],
   "source": [
    "def decode(encodedmsg,key):\n",
    "    enc_msg_list = encodedmsg.split(\" \")\n",
    "    dec_words = []\n",
    "    for i in enc_msg_list:\n",
    "        decw = \"\"\n",
    "        for j in i:\n",
    "            #print(alphalist.find(j)+3,end = \" \")\n",
    "            dec = alphalist.find(j) - key\n",
    "            print(alphalist[dec],end=\"\")\n",
    "            decw = decw + alphalist[dec]\n",
    "        print(\" \",end=\"\")\n",
    "        dec_words.append(decw)\n",
    "    dec_msg = \" \".join(dec_words)\n"
   ]
  },
  {
   "cell_type": "code",
   "execution_count": 235,
   "metadata": {},
   "outputs": [
    {
     "name": "stdout",
     "output_type": "stream",
     "text": [
      "kashi aahes tu "
     ]
    }
   ],
   "source": [
    "decode(\"ukcrs kkroc de\",10)"
   ]
  },
  {
   "cell_type": "code",
   "execution_count": null,
   "metadata": {},
   "outputs": [],
   "source": []
  }
 ],
 "metadata": {
  "kernelspec": {
   "display_name": "Python 3",
   "language": "python",
   "name": "python3"
  },
  "language_info": {
   "codemirror_mode": {
    "name": "ipython",
    "version": 3
   },
   "file_extension": ".py",
   "mimetype": "text/x-python",
   "name": "python",
   "nbconvert_exporter": "python",
   "pygments_lexer": "ipython3",
   "version": "3.7.6"
  }
 },
 "nbformat": 4,
 "nbformat_minor": 4
}
